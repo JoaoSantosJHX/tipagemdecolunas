{
 "cells": [
  {
   "cell_type": "code",
   "execution_count": 1,
   "metadata": {},
   "outputs": [
    {
     "ename": "ModuleNotFoundError",
     "evalue": "No module named 'fastparquet'",
     "output_type": "error",
     "traceback": [
      "\u001b[1;31m---------------------------------------------------------------------------\u001b[0m",
      "\u001b[1;31mModuleNotFoundError\u001b[0m                       Traceback (most recent call last)",
      "Cell \u001b[1;32mIn[1], line 5\u001b[0m\n\u001b[0;32m      3\u001b[0m \u001b[39mimport\u001b[39;00m \u001b[39mcsv\u001b[39;00m\n\u001b[0;32m      4\u001b[0m \u001b[39mfrom\u001b[39;00m \u001b[39mdatetime\u001b[39;00m \u001b[39mimport\u001b[39;00m datetime\n\u001b[1;32m----> 5\u001b[0m \u001b[39mimport\u001b[39;00m \u001b[39mfastparquet\u001b[39;00m\n\u001b[0;32m      6\u001b[0m \u001b[39mimport\u001b[39;00m \u001b[39mre\u001b[39;00m\n\u001b[0;32m      7\u001b[0m \u001b[39mimport\u001b[39;00m \u001b[39mboto3\u001b[39;00m\n",
      "\u001b[1;31mModuleNotFoundError\u001b[0m: No module named 'fastparquet'"
     ]
    }
   ],
   "source": [
    "# Código para transformar .csv para .parquet, forçar tipagem nas colunas e subir arquivo para o s3\n",
    "import pandas as pd\n",
    "import csv\n",
    "from datetime import datetime\n",
    "import fastparquet\n",
    "import re\n",
    "import boto3 #Lais"
   ]
  },
  {
   "cell_type": "code",
   "execution_count": null,
   "metadata": {},
   "outputs": [],
   "source": [
    "df = pd.read_csv('nome_do_arquivo.csv', sep =';')\n",
    "df.dtypes"
   ]
  },
  {
   "cell_type": "code",
   "execution_count": null,
   "metadata": {},
   "outputs": [],
   "source": [
    "display(df) #para mostrar o arquivo"
   ]
  },
  {
   "cell_type": "code",
   "execution_count": null,
   "metadata": {},
   "outputs": [],
   "source": [
    "#forçando a tipagem \n",
    "df['nome_coluna'] = df['nome_coluna'].fillna(0).astype(\"int64\")\n",
    "df['segunda_coluna'] = df['segunda_coluna'].fillna(0).astype(\"str\")\n",
    "df['terceira_coluna'] = df['terceira_coluna'].fillna(0).astype(\"Float64\")"
   ]
  },
  {
   "cell_type": "code",
   "execution_count": null,
   "metadata": {},
   "outputs": [],
   "source": [
    "#salvando o dataframe em parquet\n",
    "df.to_parquet('nome_do_arquivo.parquet')\n",
    "\n",
    "#leitura do arquivo parquet\n",
    "df_parquet = pd.read_parquet('nome_do_arquivo.parquet')\n",
    "\n",
    "#checando o tipo dos campos \n",
    "df_parquet.dtypes"
   ]
  },
  {
   "cell_type": "code",
   "execution_count": null,
   "metadata": {},
   "outputs": [],
   "source": [
    "#subindo para o Amazon S3\n",
    "\n",
    "#configurar as credenciais da AWS\n",
    "aws_access_key_id = 'NFOAEMFEAF'\n",
    "aws_secret_access_key = 'FEAOMFAEOFMEOAMGFAOMGFEAOF'\n",
    "\n",
    "# configurar o nome do bucket e o caminho no S3\n",
    "bucket_name = 'meu-armazenamento'\n",
    "s3_key = 'raw/flat-file/armazenamento/day=2023-06-25/nome_do_arquivo.parquet'\n",
    "\n",
    "# nome do arquivo local que será enviado para o S3\n",
    "local_file_name = 'nome_do_arquivo.parquet'\n",
    "\n",
    "# criando uma instância do cliente S3\n",
    "s3 = boto3.client('s3',\n",
    "                  aws_access_key_id=aws_access_key_id,\n",
    "                  aws_secret_access_key=aws_secret_access_key,\n",
    "                  verify=False)\n",
    "# enviando o arquivo para o S3\n",
    "s3.upload_file(local_file_name, bucket_name, s3_key)"
   ]
  }
 ],
 "metadata": {
  "kernelspec": {
   "display_name": "Python 3",
   "language": "python",
   "name": "python3"
  },
  "language_info": {
   "codemirror_mode": {
    "name": "ipython",
    "version": 3
   },
   "file_extension": ".py",
   "mimetype": "text/x-python",
   "name": "python",
   "nbconvert_exporter": "python",
   "pygments_lexer": "ipython3",
   "version": "3.10.4"
  },
  "orig_nbformat": 4
 },
 "nbformat": 4,
 "nbformat_minor": 2
}
